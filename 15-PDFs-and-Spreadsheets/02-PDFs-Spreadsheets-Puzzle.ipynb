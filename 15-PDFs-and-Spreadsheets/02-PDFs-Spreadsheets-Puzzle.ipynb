{
 "cells": [
  {
   "cell_type": "markdown",
   "metadata": {},
   "source": [
    "___\n",
    "\n",
    "<a href='https://www.udemy.com/user/joseportilla/'><img src='../Pierian_Data_Logo.png'/></a>\n",
    "___\n",
    "<center><em>Content Copyright by Pierian Data</em></center>"
   ]
  },
  {
   "cell_type": "markdown",
   "metadata": {},
   "source": [
    "# PDFs and Spreadsheets Puzzle Exercise\n",
    "\n",
    "Let's test your skills, the files needed for this puzzle exercise\n",
    "\n",
    "You will need to work with two files for this exercise and solve the following tasks:\n",
    "\n",
    "* Task One: Use Python to extract the Google Drive link from the .csv file. (Hint: Its along the diagonal from top left to bottom right).\n",
    "* Task Two: Download the PDF from the Google Drive link (we already downloaded it for you just in case you can't download from Google Drive) and find the phone number that is in the document. Note: There are different ways of formatting a phone number!"
   ]
  },
  {
   "cell_type": "markdown",
   "metadata": {},
   "source": [
    "## Task One: Grab the Google Drive Link from .csv File"
   ]
  },
  {
   "cell_type": "code",
   "execution_count": 2,
   "metadata": {
    "collapsed": true
   },
   "outputs": [],
   "source": [
    "import csv\n",
    "data = open('Exercise_Files/find_the_link.csv',encoding=\"utf-8\")\n",
    "csv_data = csv.reader(data)\n",
    "data_lines = list(csv_data)"
   ]
  },
  {
   "cell_type": "code",
   "execution_count": 8,
   "metadata": {},
   "outputs": [],
   "source": [
    "# data_lines"
   ]
  },
  {
   "cell_type": "code",
   "execution_count": 5,
   "metadata": {},
   "outputs": [],
   "source": [
    "link_list = []\n",
    "for row_num,data in enumerate(data_lines):\n",
    "    link_list.append(data[row_num])"
   ]
  },
  {
   "cell_type": "code",
   "execution_count": 6,
   "metadata": {},
   "outputs": [
    {
     "output_type": "execute_result",
     "data": {
      "text/plain": [
       "['h',\n",
       " 't',\n",
       " 't',\n",
       " 'p',\n",
       " 's',\n",
       " ':',\n",
       " '/',\n",
       " '/',\n",
       " 'd',\n",
       " 'r',\n",
       " 'i',\n",
       " 'v',\n",
       " 'e',\n",
       " '.',\n",
       " 'g',\n",
       " 'o',\n",
       " 'o',\n",
       " 'g',\n",
       " 'l',\n",
       " 'e',\n",
       " '.',\n",
       " 'c',\n",
       " 'o',\n",
       " 'm',\n",
       " '/',\n",
       " 'o',\n",
       " 'p',\n",
       " 'e',\n",
       " 'n',\n",
       " '?',\n",
       " 'i',\n",
       " 'd',\n",
       " '=',\n",
       " '1',\n",
       " 'G',\n",
       " '6',\n",
       " 'S',\n",
       " 'E',\n",
       " 'g',\n",
       " 'g',\n",
       " '0',\n",
       " '1',\n",
       " '8',\n",
       " 'U',\n",
       " 'B',\n",
       " '4',\n",
       " '_',\n",
       " '4',\n",
       " 'x',\n",
       " 's',\n",
       " 'A',\n",
       " 'J',\n",
       " 'J',\n",
       " '5',\n",
       " 'T',\n",
       " 'd',\n",
       " 'z',\n",
       " 'r',\n",
       " 'h',\n",
       " 'm',\n",
       " 'X',\n",
       " 'i',\n",
       " 'p',\n",
       " 'r',\n",
       " '4',\n",
       " 'Q']"
      ]
     },
     "metadata": {},
     "execution_count": 6
    }
   ],
   "source": [
    "link_list"
   ]
  },
  {
   "cell_type": "code",
   "execution_count": 7,
   "metadata": {},
   "outputs": [
    {
     "output_type": "execute_result",
     "data": {
      "text/plain": [
       "'https://drive.google.com/open?id=1G6SEgg018UB4_4xsAJJ5TdzrhmXipr4Q'"
      ]
     },
     "metadata": {},
     "execution_count": 7
    }
   ],
   "source": [
    "# THe correct result is shown below, if you can't download from Google Drive, \n",
    "# we added the PDF file to the Exercise_Files folder already\n",
    "''.join(link_list)"
   ]
  },
  {
   "cell_type": "markdown",
   "metadata": {},
   "source": [
    "## Task Two: Download the PDF from the Google Drive link and find the phone number that is in the document. "
   ]
  },
  {
   "cell_type": "code",
   "execution_count": 1,
   "metadata": {
    "collapsed": true
   },
   "outputs": [],
   "source": [
    "# You should get this phone number\n",
    "# 505 503 4455"
   ]
  },
  {
   "cell_type": "code",
   "execution_count": 10,
   "metadata": {},
   "outputs": [],
   "source": [
    "import PyPDF2"
   ]
  },
  {
   "cell_type": "code",
   "execution_count": 11,
   "metadata": {},
   "outputs": [
    {
     "output_type": "execute_result",
     "data": {
      "text/plain": [
       "17"
      ]
     },
     "metadata": {},
     "execution_count": 11
    }
   ],
   "source": [
    "f = open('Exercise_Files/Find_the_Phone_Number.pdf','rb')\n",
    "pdf = PyPDF2.PdfFileReader(f)\n",
    "pdf.numPages"
   ]
  },
  {
   "cell_type": "code",
   "execution_count": 12,
   "metadata": {},
   "outputs": [
    {
     "output_type": "stream",
     "name": "stdout",
     "text": [
      "<re.Match object; span=(655, 658), match='000'>\n<re.Match object; span=(17805, 17808), match='000'>\n<re.Match object; span=(35059, 35062), match='000'>\n<re.Match object; span=(41808, 41811), match='505'>\n<re.Match object; span=(41812, 41815), match='503'>\n<re.Match object; span=(41816, 41819), match='445'>\n"
     ]
    }
   ],
   "source": [
    "import re\n",
    "pattern = r'\\d{3}'\n",
    "all_text = ''\n",
    "\n",
    "for n in range(pdf.numPages):\n",
    "    \n",
    "    page = pdf.getPage(n)\n",
    "    page_text = page.extractText()\n",
    "    \n",
    "    all_text = all_text+' '+page_text\n",
    "\n",
    "for match in re.finditer(pattern,all_text):\n",
    "    print(match)"
   ]
  },
  {
   "cell_type": "code",
   "execution_count": 13,
   "metadata": {},
   "outputs": [
    {
     "output_type": "stream",
     "name": "stdout",
     "text": [
      "505.503.4455\n"
     ]
    }
   ],
   "source": [
    "import re\n",
    "pattern = r'\\d{3}.\\d{3}.\\d{4}'\n",
    "for n in range(pdf.numPages):\n",
    "    \n",
    "    page  = pdf.getPage(n)\n",
    "    page_text = page.extractText()\n",
    "    match = re.search(pattern,page_text)\n",
    "    \n",
    "    if match:\n",
    "        print(match.group())"
   ]
  },
  {
   "cell_type": "code",
   "execution_count": null,
   "metadata": {},
   "outputs": [],
   "source": []
  }
 ],
 "metadata": {
  "anaconda-cloud": {},
  "kernelspec": {
   "name": "Python 3.8.2 32-bit",
   "display_name": "Python 3.8.2 32-bit",
   "metadata": {
    "interpreter": {
     "hash": "dc69c9e8a1bbb4ca63ec1045574f1459eefdbd8242d58ef70edbcb2138961586"
    }
   }
  },
  "language_info": {
   "codemirror_mode": {
    "name": "ipython",
    "version": 3
   },
   "file_extension": ".py",
   "mimetype": "text/x-python",
   "name": "python",
   "nbconvert_exporter": "python",
   "pygments_lexer": "ipython3",
   "version": "3.8.2-final"
  }
 },
 "nbformat": 4,
 "nbformat_minor": 2
}